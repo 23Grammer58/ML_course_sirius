{
 "cells": [
  {
   "cell_type": "code",
   "execution_count": 4,
   "id": "c5ec4404",
   "metadata": {},
   "outputs": [],
   "source": [
    "from __future__ import unicode_literals, print_function, division\n",
    "from io import open\n",
    "import glob\n",
    "import os\n",
    "import unicodedata\n",
    "import string\n",
    "import random\n",
    "import time\n",
    "import math\n",
    "\n",
    "import torch\n",
    "import torch.nn as nn\n",
    "\n",
    "from tqdm.notebook import tqdm\n",
    "\n",
    "import matplotlib.pyplot as plt\n",
    "import matplotlib.ticker as ticker\n",
    "%matplotlib inline"
   ]
  },
  {
   "cell_type": "code",
   "execution_count": 5,
   "id": "4441ef79",
   "metadata": {},
   "outputs": [],
   "source": [
    "def findFiles(path):\n",
    "    return glob.glob(path)"
   ]
  },
  {
   "cell_type": "code",
   "execution_count": 6,
   "id": "53d12fb5",
   "metadata": {},
   "outputs": [
    {
     "name": "stdout",
     "output_type": "stream",
     "text": [
      "['data/names\\\\Arabic.txt', 'data/names\\\\Chinese.txt', 'data/names\\\\Czech.txt', 'data/names\\\\Dutch.txt', 'data/names\\\\English.txt', 'data/names\\\\French.txt', 'data/names\\\\German.txt', 'data/names\\\\Greek.txt', 'data/names\\\\Irish.txt', 'data/names\\\\Italian.txt', 'data/names\\\\Japanese.txt', 'data/names\\\\Korean.txt', 'data/names\\\\Polish.txt', 'data/names\\\\Portuguese.txt', 'data/names\\\\Russian.txt', 'data/names\\\\Scottish.txt', 'data/names\\\\Spanish.txt', 'data/names\\\\Vietnamese.txt']\n"
     ]
    }
   ],
   "source": [
    "print(findFiles('data/names/*.txt'))"
   ]
  },
  {
   "cell_type": "code",
   "execution_count": 7,
   "id": "e7d524f1",
   "metadata": {},
   "outputs": [],
   "source": [
    "all_letters = string.ascii_letters + \" .,;'\"\n",
    "n_letters = len(all_letters)"
   ]
  },
  {
   "cell_type": "code",
   "execution_count": 8,
   "id": "ea5e8a8c",
   "metadata": {},
   "outputs": [],
   "source": [
    "def unicodeToAscii(s):\n",
    "    return ''.join(\n",
    "        c for c in unicodedata.normalize('NFD', s)\n",
    "        if unicodedata.category(c) != 'Mn'\n",
    "        and c in all_letters\n",
    "    )"
   ]
  },
  {
   "cell_type": "code",
   "execution_count": 9,
   "id": "47007a04",
   "metadata": {},
   "outputs": [
    {
     "name": "stdout",
     "output_type": "stream",
     "text": [
      "Slusarski\n"
     ]
    }
   ],
   "source": [
    "print(unicodeToAscii('Ślusàrski'))"
   ]
  },
  {
   "cell_type": "code",
   "execution_count": 10,
   "id": "b68f540f",
   "metadata": {},
   "outputs": [],
   "source": [
    "def readLines(filename):\n",
    "    lines = open(filename, encoding='utf-8').read().strip().split('\\n')\n",
    "    return [unicodeToAscii(line) for line in lines]"
   ]
  },
  {
   "cell_type": "code",
   "execution_count": 11,
   "id": "1b4affdb",
   "metadata": {},
   "outputs": [],
   "source": [
    "category_lines = {}\n",
    "all_categories = []"
   ]
  },
  {
   "cell_type": "code",
   "execution_count": 12,
   "id": "1f58c8ca",
   "metadata": {},
   "outputs": [],
   "source": [
    "for filename in findFiles('data/names/*.txt'):\n",
    "    category = os.path.splitext(os.path.basename(filename))[0]\n",
    "    all_categories.append(category)\n",
    "    lines = readLines(filename)\n",
    "    category_lines[category] = lines"
   ]
  },
  {
   "cell_type": "code",
   "execution_count": 13,
   "id": "4edcd3dd",
   "metadata": {},
   "outputs": [],
   "source": [
    "n_categories = len(all_categories)"
   ]
  },
  {
   "cell_type": "code",
   "execution_count": 14,
   "id": "e387d57f",
   "metadata": {},
   "outputs": [
    {
     "name": "stdout",
     "output_type": "stream",
     "text": [
      "['Abandonato', 'Abatangelo', 'Abatantuono', 'Abate', 'Abategiovanni']\n"
     ]
    }
   ],
   "source": [
    "print(category_lines['Italian'][:5])"
   ]
  },
  {
   "cell_type": "code",
   "execution_count": 15,
   "id": "76303fb2",
   "metadata": {},
   "outputs": [],
   "source": [
    "category_lines_val = {}\n",
    "\n",
    "for i in range(len(all_categories)):\n",
    "    lst = category_lines[all_categories[i]]\n",
    "    train_size = int(len(lst) * 0.8)\n",
    "    random.shuffle(lst)\n",
    "    lst_train = lst[:train_size]\n",
    "    lst_val = lst[train_size:]\n",
    "    \n",
    "    category_lines[all_categories[i]] = lst_train\n",
    "    category_lines_val[all_categories[i]] = lst_val"
   ]
  },
  {
   "cell_type": "code",
   "execution_count": null,
   "id": "f721dddf",
   "metadata": {},
   "outputs": [],
   "source": []
  },
  {
   "cell_type": "code",
   "execution_count": null,
   "id": "43b28eac",
   "metadata": {},
   "outputs": [],
   "source": []
  },
  {
   "cell_type": "code",
   "execution_count": 16,
   "id": "16cc630f",
   "metadata": {},
   "outputs": [],
   "source": [
    "def letterToIndex(letter):\n",
    "    return all_letters.find(letter)"
   ]
  },
  {
   "cell_type": "code",
   "execution_count": 17,
   "id": "6554b221",
   "metadata": {},
   "outputs": [],
   "source": [
    "def letterToTensor(letter):\n",
    "    tensor = torch.zeros(1, n_letters)\n",
    "    tensor[0][letterToIndex(letter)] = 1\n",
    "    return tensor\n",
    "\n",
    "def lineToTensor(line):\n",
    "    tensor = torch.zeros(len(line), 1, n_letters)\n",
    "    for li, letter in enumerate(line):\n",
    "        tensor[li][0][letterToIndex(letter)] = 1\n",
    "    return tensor"
   ]
  },
  {
   "cell_type": "code",
   "execution_count": 18,
   "id": "0c9f1e41",
   "metadata": {},
   "outputs": [
    {
     "name": "stdout",
     "output_type": "stream",
     "text": [
      "torch.Size([5, 1, 57])\n"
     ]
    }
   ],
   "source": [
    "print(lineToTensor('Jones').size())"
   ]
  },
  {
   "cell_type": "code",
   "execution_count": null,
   "id": "042dfab9",
   "metadata": {},
   "outputs": [],
   "source": []
  },
  {
   "cell_type": "code",
   "execution_count": 19,
   "id": "cbb32bb9",
   "metadata": {},
   "outputs": [],
   "source": [
    "class RNN(nn.Module):\n",
    "    def __init__(self, input_size, hidden_size, output_size):\n",
    "        super(RNN, self).__init__()\n",
    "\n",
    "        self.hidden_size = hidden_size\n",
    "\n",
    "        self.i2h = nn.Linear(input_size + hidden_size, hidden_size)\n",
    "        self.i2o = nn.Linear(input_size + hidden_size, output_size)\n",
    "        self.softmax = nn.LogSoftmax(dim=1)\n",
    "\n",
    "    def forward(self, input, hidden):\n",
    "        combined = torch.cat((input, hidden), 1)\n",
    "        hidden = self.i2h(combined)\n",
    "        output = self.i2o(combined)\n",
    "        output = self.softmax(output)\n",
    "        return output, hidden\n",
    "\n",
    "    def initHidden(self):\n",
    "        return torch.zeros(1, self.hidden_size)\n",
    "\n",
    "n_hidden = 128\n",
    "rnn = RNN(n_letters, n_hidden, n_categories)"
   ]
  },
  {
   "cell_type": "code",
   "execution_count": 20,
   "id": "b50d61d8",
   "metadata": {},
   "outputs": [],
   "source": [
    "inp = letterToTensor('A')\n",
    "hidden = torch.zeros(1, n_hidden)\n",
    "\n",
    "with torch.no_grad():\n",
    "    output, next_hidden = rnn(inp, hidden)"
   ]
  },
  {
   "cell_type": "code",
   "execution_count": 21,
   "id": "cec95609",
   "metadata": {},
   "outputs": [
    {
     "data": {
      "text/plain": [
       "(torch.Size([1, 18]), torch.Size([1, 128]))"
      ]
     },
     "execution_count": 21,
     "metadata": {},
     "output_type": "execute_result"
    }
   ],
   "source": [
    "output.shape, next_hidden.shape"
   ]
  },
  {
   "cell_type": "code",
   "execution_count": 22,
   "id": "746ee89c",
   "metadata": {},
   "outputs": [],
   "source": [
    "inp = lineToTensor('Albert')\n",
    "hidden = torch.zeros(1, n_hidden)\n",
    "\n",
    "with torch.no_grad():\n",
    "    output, next_hidden = rnn(inp[0], hidden)"
   ]
  },
  {
   "cell_type": "code",
   "execution_count": 23,
   "id": "22d7fbda",
   "metadata": {},
   "outputs": [
    {
     "name": "stdout",
     "output_type": "stream",
     "text": [
      "('Chinese', 1)\n"
     ]
    }
   ],
   "source": [
    "def categoryFromOutput(output):\n",
    "    top_n, top_i = output.topk(1)\n",
    "    category_i = top_i[0].item()\n",
    "    return all_categories[category_i], category_i\n",
    "\n",
    "print(categoryFromOutput(output))"
   ]
  },
  {
   "cell_type": "code",
   "execution_count": 24,
   "id": "6cd4b436",
   "metadata": {},
   "outputs": [],
   "source": [
    "def randomChoice(l):\n",
    "    return l[random.randint(0, len(l) - 1)]\n",
    "\n",
    "def randomTrainingExample():\n",
    "    category = randomChoice(all_categories)\n",
    "    line = randomChoice(category_lines[category])\n",
    "    category_tensor = torch.tensor([all_categories.index(category)], dtype=torch.long)\n",
    "    line_tensor = lineToTensor(line)\n",
    "    return category, line, category_tensor, line_tensor\n",
    "\n",
    "def randomValidationExample():\n",
    "    category = randomChoice(all_categories)\n",
    "    line = randomChoice(category_lines_val[category])\n",
    "    category_tensor = torch.tensor([all_categories.index(category)], dtype=torch.long)\n",
    "    line_tensor = lineToTensor(line)\n",
    "    return category, line, category_tensor, line_tensor"
   ]
  },
  {
   "cell_type": "code",
   "execution_count": 25,
   "id": "cef268fe",
   "metadata": {},
   "outputs": [
    {
     "name": "stdout",
     "output_type": "stream",
     "text": [
      "category = Dutch / line = Snider\n",
      "category = Scottish / line = Mclean\n",
      "category = Vietnamese / line = Phan\n",
      "category = Scottish / line = Mcgregor\n",
      "category = Irish / line = Cathan\n",
      "category = Chinese / line = Feng\n",
      "category = Arabic / line = Maloof\n",
      "category = English / line = Thornes\n",
      "category = Arabic / line = Sleiman\n",
      "category = Scottish / line = Muir\n"
     ]
    }
   ],
   "source": [
    "for i in range(10):\n",
    "    category, line, category_tensor, line_tensor = randomTrainingExample()\n",
    "    print('category =', category, '/ line =', line)"
   ]
  },
  {
   "cell_type": "code",
   "execution_count": 26,
   "id": "49978d94",
   "metadata": {},
   "outputs": [],
   "source": [
    "criterion = nn.NLLLoss()"
   ]
  },
  {
   "cell_type": "code",
   "execution_count": 27,
   "id": "f09daf27",
   "metadata": {},
   "outputs": [],
   "source": [
    "optimizer = torch.optim.SGD(rnn.parameters(), lr=5e-3)\n",
    "\n",
    "def train(category_tensor, line_tensor):\n",
    "    hidden = rnn.initHidden()\n",
    "\n",
    "    optimizer.zero_grad()\n",
    "\n",
    "    for i in range(line_tensor.shape[0]):\n",
    "        output, hidden = rnn(line_tensor[i], hidden)\n",
    "\n",
    "    loss = criterion(output, category_tensor)\n",
    "    loss.backward()\n",
    "\n",
    "    optimizer.step()\n",
    "\n",
    "    return output, loss.item()\n",
    "\n",
    "def evaluate(line_tensor):\n",
    "    with torch.no_grad():\n",
    "        hidden = rnn.initHidden()\n",
    "\n",
    "        for i in range(line_tensor.size()[0]):\n",
    "            output, hidden = rnn(line_tensor[i], hidden)\n",
    "\n",
    "    return output"
   ]
  },
  {
   "cell_type": "code",
   "execution_count": 28,
   "id": "e5d260f8",
   "metadata": {},
   "outputs": [],
   "source": [
    "n_iters = 500_000\n",
    "print_every = 5000\n",
    "val_size = 3000"
   ]
  },
  {
   "cell_type": "code",
   "execution_count": 38,
   "id": "58c487e7",
   "metadata": {},
   "outputs": [
    {
     "name": "stdout",
     "output_type": "stream",
     "text": [
      "5000 1% (0m 7s) 13645.077831, 0.2653 Fonseca / Japanese ✗ (Portuguese)\n",
      "10000 2% (0m 15s) 11493.116131, 0.3347 Stieber / German ✓\n",
      "15000 3% (0m 23s) 10345.568870, 0.3657 Hough / Arabic ✗ (English)\n",
      "20000 4% (0m 30s) 9606.175319, 0.3770 Hoover / Czech ✗ (German)\n",
      "25000 5% (0m 38s) 8974.091850, 0.4007 Shamoun / Arabic ✓\n",
      "30000 6% (0m 45s) 8458.614421, 0.3940 Shamoun / Japanese ✗ (Arabic)\n",
      "35000 7% (0m 53s) 7997.617568, 0.4433 Fonseca / Spanish ✗ (Portuguese)\n",
      "40000 8% (1m 1s) 7852.693108, 0.4287 O'Byrne / English ✗ (Irish)\n",
      "45000 9% (1m 8s) 7491.170601, 0.3780 Nieddu / Russian ✗ (Italian)\n",
      "50000 10% (1m 16s) 7269.224322, 0.4677 Shula / Portuguese ✗ (Czech)\n",
      "55000 11% (1m 24s) 7162.287424, 0.4517 Mahinov / Russian ✓\n",
      "60000 12% (1m 32s) 6938.595934, 0.4643 Armbruster / German ✓\n",
      "65000 13% (1m 40s) 6815.995489, 0.4283 Rippin / Dutch ✗ (English)\n",
      "70000 14% (1m 48s) 6669.008487, 0.4347 Rodriguez / Spanish ✓\n",
      "75000 15% (1m 56s) 6431.877874, 0.4773 Nakamoto / Japanese ✓\n",
      "80000 16% (2m 4s) 6563.880226, 0.4683 Burns / Dutch ✗ (Scottish)\n",
      "85000 17% (2m 11s) 6396.191603, 0.4557 Szweda / Polish ✓\n",
      "90000 18% (2m 19s) 6338.412691, 0.4620 Komo / Japanese ✗ (Czech)\n",
      "95000 19% (2m 27s) 6129.925264, 0.5003 Naggia / Arabic ✗ (Italian)\n",
      "100000 20% (2m 35s) 6291.118180, 0.4657 Ibarra / Spanish ✓\n",
      "105000 21% (2m 43s) 6160.924348, 0.4420 Fleming / German ✗ (Scottish)\n",
      "110000 22% (2m 50s) 6221.014239, 0.4663 San / Chinese ✗ (Korean)\n",
      "115000 23% (2m 58s) 6017.435915, 0.4593 Le / Vietnamese ✓\n",
      "120000 24% (3m 6s) 5916.054102, 0.4600 Fonseca / Spanish ✗ (Portuguese)\n",
      "125000 25% (3m 13s) 6069.119713, 0.4557 Thuy / Vietnamese ✓\n",
      "130000 26% (3m 21s) 5830.408468, 0.4667 Bertolini / Italian ✓\n",
      "135000 27% (3m 29s) 5763.217263, 0.4867 O'Meara / Irish ✓\n",
      "140000 28% (3m 37s) 5652.953483, 0.4673 Bukowski / Polish ✓\n",
      "145000 28% (3m 44s) 5834.194075, 0.4753 Stroman / Polish ✗ (German)\n",
      "150000 30% (3m 52s) 5750.457141, 0.5013 Meadhra / Japanese ✗ (Irish)\n",
      "155000 31% (4m 3s) 5708.484523, 0.4470 Shin / Korean ✓\n",
      "160000 32% (4m 13s) 5860.315630, 0.4750 Nineham / Irish ✗ (English)\n",
      "165000 33% (4m 22s) 5733.356286, 0.4847 Stenger / German ✓\n",
      "170000 34% (4m 31s) 5610.203702, 0.4637 Higoshi / Japanese ✓\n",
      "175000 35% (4m 40s) 5673.899532, 0.4813 Plourde / Portuguese ✗ (French)\n",
      "180000 36% (4m 51s) 5583.693398, 0.4830 Amadori / Japanese ✗ (Italian)\n",
      "185000 37% (5m 1s) 5621.363655, 0.4607 Nam / Vietnamese ✗ (Korean)\n",
      "190000 38% (5m 10s) 5538.978433, 0.4520 Gniewek / Czech ✗ (Polish)\n",
      "195000 39% (5m 20s) 5532.227275, 0.4530 Shannon / Arabic ✗ (Irish)\n",
      "200000 40% (5m 30s) 5786.982777, 0.4790 Ferro / Portuguese ✓\n",
      "205000 41% (5m 38s) 5642.178401, 0.4863 De felice / French ✗ (Italian)\n",
      "210000 42% (5m 47s) 5507.110849, 0.4750 Ahn / Chinese ✗ (Korean)\n",
      "215000 43% (5m 55s) 5445.968941, 0.4703 Sastre / English ✗ (Spanish)\n",
      "220000 44% (6m 6s) 5495.814136, 0.4573 Dawkins / English ✓\n",
      "225000 45% (6m 16s) 5516.517310, 0.4743 Hakimi / Japanese ✗ (Arabic)\n",
      "230000 46% (6m 24s) 5552.349726, 0.4737 Munro / Portuguese ✗ (Scottish)\n",
      "235000 47% (6m 32s) 5358.290044, 0.4447 Tunneson / Dutch ✓\n",
      "240000 48% (6m 41s) 5352.972565, 0.4680 Desmond / English ✗ (Irish)\n",
      "245000 49% (6m 49s) 5547.112652, 0.4603 Koliha / Czech ✓\n",
      "250000 50% (6m 58s) 5284.765948, 0.4470 Meadhra / Irish ✓\n",
      "255000 51% (7m 7s) 5748.757296, 0.4740 Pasternack / Irish ✗ (Polish)\n",
      "260000 52% (7m 19s) 5599.498001, 0.4340 Marshall / German ✗ (Scottish)\n",
      "265000 53% (7m 31s) 5519.292030, 0.4350 Jindra / Czech ✓\n",
      "270000 54% (7m 44s) 5314.614982, 0.4657 Salvage / French ✓\n",
      "275000 55% (7m 57s) 5468.682491, 0.4733 Marshall / French ✗ (Scottish)\n",
      "280000 56% (8m 8s) 5289.976775, 0.4633 Giannakos / Greek ✓\n",
      "285000 56% (8m 20s) 5373.118609, 0.4503 Yi / Korean ✓\n",
      "290000 57% (8m 31s) 5455.886996, 0.4857 Kranz / German ✓\n",
      "295000 59% (8m 43s) 5440.500500, 0.4830 Chang / Chinese ✓\n",
      "300000 60% (8m 55s) 5487.743814, 0.4683 Adamidis / Greek ✓\n",
      "305000 61% (9m 6s) 5372.192095, 0.4627 Duong / Vietnamese ✓\n",
      "310000 62% (9m 18s) 5199.893970, 0.4560 Houtum / Arabic ✗ (Dutch)\n",
      "315000 63% (9m 29s) 5424.739461, 0.4773 Trudu / Japanese ✗ (Italian)\n",
      "320000 64% (9m 41s) 5265.461547, 0.4497 Ujinov / Russian ✓\n",
      "325000 65% (9m 53s) 5252.089933, 0.4807 Abe / English ✗ (Japanese)\n",
      "330000 66% (10m 4s) 5371.990002, 0.4957 Specht / German ✗ (Dutch)\n",
      "335000 67% (10m 16s) 5320.132660, 0.4870 Ferro / Italian ✗ (Portuguese)\n",
      "340000 68% (10m 28s) 5369.320424, 0.5083 Janicek / Czech ✓\n",
      "345000 69% (10m 39s) 5218.037987, 0.4487 Prime / French ✗ (English)\n",
      "350000 70% (10m 51s) 5406.550677, 0.4827 Sluaghadhan / Irish ✓\n",
      "355000 71% (11m 2s) 5226.442726, 0.4903 Leone / French ✗ (Italian)\n",
      "360000 72% (11m 14s) 5319.000315, 0.4550 Yoshizawa / Japanese ✓\n",
      "365000 73% (11m 26s) 5237.938753, 0.4790 Brown / German ✗ (Scottish)\n",
      "370000 74% (11m 37s) 5119.033068, 0.4807 Akimoto / Japanese ✓\n",
      "375000 75% (11m 49s) 5365.892060, 0.4983 Henderson / Scottish ✓\n",
      "380000 76% (12m 1s) 5295.054068, 0.4623 Noakes / Arabic ✗ (English)\n",
      "385000 77% (12m 12s) 5282.089907, 0.4953 Avagimoff / Russian ✓\n",
      "390000 78% (12m 24s) 5278.480706, 0.4680 Lieberenz / Spanish ✗ (German)\n",
      "395000 79% (12m 35s) 5434.133285, 0.4733 Mclaughlin / Russian ✗ (Scottish)\n",
      "400000 80% (12m 47s) 5127.457418, 0.4910 Mohren / Dutch ✓\n",
      "405000 81% (12m 59s) 5138.050961, 0.4867 Chang / Korean ✗ (Chinese)\n",
      "410000 82% (13m 10s) 5334.585826, 0.4427 Chang / Korean ✗ (Chinese)\n",
      "415000 83% (13m 22s) 5280.279994, 0.4933 Acciaioli / Italian ✓\n",
      "420000 84% (13m 34s) 5239.515233, 0.4907 Canne / French ✗ (Dutch)\n",
      "425000 85% (13m 45s) 5322.537381, 0.4750 Tang / Vietnamese ✗ (Chinese)\n",
      "430000 86% (13m 57s) 5329.322264, 0.4747 Ferro / Spanish ✗ (Portuguese)\n",
      "435000 87% (14m 7s) 5337.681681, 0.4593 Tickner / Scottish ✗ (English)\n",
      "440000 88% (14m 14s) 5320.293733, 0.4903 Desrosiers / Dutch ✗ (French)\n",
      "445000 89% (14m 22s) 5171.890813, 0.4813 Deeb / Arabic ✓\n",
      "450000 90% (14m 30s) 5348.723557, 0.4567 Mclaughlin / English ✗ (Scottish)\n",
      "455000 91% (14m 38s) 5214.593039, 0.4457 O'Brian / Irish ✓\n",
      "460000 92% (14m 45s) 5174.721203, 0.4800 Sinclair / French ✗ (Scottish)\n",
      "465000 93% (14m 53s) 5164.325163, 0.4870 Fonseca / Spanish ✗ (Portuguese)\n",
      "470000 94% (15m 1s) 5308.904790, 0.4820 Macleod / Scottish ✓\n",
      "475000 95% (15m 9s) 5126.652751, 0.4703 Malouf / Arabic ✓\n",
      "480000 96% (15m 17s) 5028.137473, 0.4793 Gaspar / Scottish ✗ (Portuguese)\n",
      "485000 97% (15m 25s) 5199.368734, 0.4790 Campana / Spanish ✗ (Italian)\n",
      "490000 98% (15m 33s) 5162.049803, 0.4783 Asturias / Greek ✗ (Spanish)\n",
      "495000 99% (15m 41s) 5109.616699, 0.4513 Kelk / Czech ✗ (English)\n",
      "500000 100% (15m 48s) 5269.521053, 0.4787 Ferro / Portuguese ✓\n"
     ]
    }
   ],
   "source": [
    "current_loss = 0\n",
    "all_losses = []\n",
    "all_precisions = []\n",
    "best_value = 0\n",
    "best_model = None\n",
    "\n",
    "def timeSince(since):\n",
    "    now = time.time()\n",
    "    s = now - since\n",
    "    m = math.floor(s / 60)\n",
    "    s -= m * 60\n",
    "    return '%dm %ds' % (m, s)\n",
    "\n",
    "start = time.time()\n",
    "\n",
    "for iter in range(1, n_iters + 1):\n",
    "    category, line, category_tensor, line_tensor = randomTrainingExample()\n",
    "    output, loss = train(category_tensor, line_tensor)\n",
    "    current_loss += loss\n",
    "\n",
    "    if iter % print_every == 0:\n",
    "        with torch.no_grad():\n",
    "            num_correct = 0\n",
    "            for _ in range(val_size):\n",
    "                category, line, category_tensor, line_tensor = randomValidationExample()\n",
    "                output = evaluate(line_tensor)\n",
    "                guess, guess_i = categoryFromOutput(output)\n",
    "                category_i = all_categories.index(category)\n",
    "                num_correct += (guess_i == category_i)\n",
    "            prec = num_correct / val_size\n",
    "            all_precisions.append(prec)\n",
    "            \n",
    "            if prec > best_value:\n",
    "                best_value = prec\n",
    "                best_model = rnn.state_dict().copy()\n",
    "            \n",
    "        all_losses.append(current_loss / print_every)\n",
    "        \n",
    "        guess, guess_i = categoryFromOutput(output)\n",
    "        correct = '✓' if guess == category else '✗ (%s)' % category\n",
    "        print('%d %d%% (%s) %f, %.4f %s / %s %s' % (iter, iter / n_iters * 100, timeSince(start), current_loss, prec, line, guess, correct))\n",
    "        current_loss = 0"
   ]
  },
  {
   "cell_type": "code",
   "execution_count": 39,
   "id": "00a2f99c",
   "metadata": {},
   "outputs": [
    {
     "data": {
      "text/plain": [
       "[<matplotlib.lines.Line2D at 0x1f2f7ccd8a0>]"
      ]
     },
     "execution_count": 39,
     "metadata": {},
     "output_type": "execute_result"
    },
    {
     "data": {
      "image/png": "[encoded data removed]",
      "text/plain": [
       "<Figure size 1600x500 with 2 Axes>"
      ]
     },
     "metadata": {},
     "output_type": "display_data"
    }
   ],
   "source": [
    "plt.figure(figsize=(16, 5))\n",
    "\n",
    "plt.subplot(1, 2, 1)\n",
    "plt.plot(all_losses)\n",
    "\n",
    "plt.subplot(1, 2, 2)\n",
    "plt.plot(all_precisions)"
   ]
  },
  {
   "cell_type": "code",
   "execution_count": 40,
   "id": "7cda42d9",
   "metadata": {},
   "outputs": [
    {
     "data": {
      "text/plain": [
       "<All keys matched successfully>"
      ]
     },
     "execution_count": 40,
     "metadata": {},
     "output_type": "execute_result"
    }
   ],
   "source": [
    "rnn.load_state_dict(best_model)"
   ]
  },
  {
   "cell_type": "code",
   "execution_count": 41,
   "id": "7ea45d69",
   "metadata": {},
   "outputs": [
    {
     "name": "stderr",
     "output_type": "stream",
     "text": [
      "C:\\Users\\Sirius\\AppData\\Local\\Temp\\ipykernel_182392\\3249864722.py:19: UserWarning: FixedFormatter should only be used together with FixedLocator\n",
      "  ax.set_xticklabels([''] + all_categories, rotation=90)\n",
      "C:\\Users\\Sirius\\AppData\\Local\\Temp\\ipykernel_182392\\3249864722.py:20: UserWarning: FixedFormatter should only be used together with FixedLocator\n",
      "  ax.set_yticklabels([''] + all_categories)\n"
     ]
    },
    {
     "data": {
      "image/png": "[encoded data removed]",
      "text/plain": [
       "<Figure size 640x480 with 2 Axes>"
      ]
     },
     "metadata": {},
     "output_type": "display_data"
    }
   ],
   "source": [
    "confusion = torch.zeros(n_categories, n_categories)\n",
    "n_confusion = 10000\n",
    "\n",
    "for i in range(n_confusion):\n",
    "    category, line, category_tensor, line_tensor = randomValidationExample()\n",
    "    output = evaluate(line_tensor)\n",
    "    guess, guess_i = categoryFromOutput(output)\n",
    "    category_i = all_categories.index(category)\n",
    "    confusion[category_i][guess_i] += 1\n",
    "\n",
    "for i in range(n_categories):\n",
    "    confusion[i] = confusion[i] / confusion[i].sum()\n",
    "\n",
    "fig = plt.figure()\n",
    "ax = fig.add_subplot(111)\n",
    "cax = ax.matshow(confusion.numpy())\n",
    "fig.colorbar(cax)\n",
    "\n",
    "ax.set_xticklabels([''] + all_categories, rotation=90)\n",
    "ax.set_yticklabels([''] + all_categories)\n",
    "\n",
    "ax.xaxis.set_major_locator(ticker.MultipleLocator(1))\n",
    "ax.yaxis.set_major_locator(ticker.MultipleLocator(1))"
   ]
  },
  {
   "cell_type": "code",
   "execution_count": 42,
   "id": "4b0d7e8c",
   "metadata": {},
   "outputs": [],
   "source": [
    "def predict(input_line, n_predictions=3):\n",
    "    print('> %s' % input_line)\n",
    "    with torch.no_grad():\n",
    "        output = evaluate(lineToTensor(input_line))\n",
    "\n",
    "        topv, topi = output.topk(n_predictions, 1, True)\n",
    "        predictions = []\n",
    "\n",
    "        for i in range(n_predictions):\n",
    "            value = topv[0][i].item()\n",
    "            category_index = topi[0][i].item()\n",
    "            print('(%.2f) %s' % (value, all_categories[category_index]))\n",
    "            predictions.append([value, all_categories[category_index]])"
   ]
  },
  {
   "cell_type": "code",
   "execution_count": 43,
   "id": "a26b9085",
   "metadata": {},
   "outputs": [
    {
     "name": "stdout",
     "output_type": "stream",
     "text": [
      "> Dovesky\n",
      "(-0.56) Russian\n",
      "(-0.98) Czech\n",
      "(-3.46) English\n"
     ]
    }
   ],
   "source": [
    "predict('Dovesky')"
   ]
  },
  {
   "cell_type": "code",
   "execution_count": 44,
   "id": "82263c30",
   "metadata": {},
   "outputs": [
    {
     "name": "stdout",
     "output_type": "stream",
     "text": [
      "> Jackson\n",
      "(-0.09) Scottish\n",
      "(-3.30) English\n",
      "(-3.91) Russian\n"
     ]
    }
   ],
   "source": [
    "predict('Jackson')"
   ]
  },
  {
   "cell_type": "code",
   "execution_count": 45,
   "id": "c469ef57",
   "metadata": {},
   "outputs": [
    {
     "name": "stdout",
     "output_type": "stream",
     "text": [
      "> Satoshi\n",
      "(-0.96) Japanese\n",
      "(-1.60) Scottish\n",
      "(-1.77) Arabic\n"
     ]
    }
   ],
   "source": [
    "predict('Satoshi')"
   ]
  },
  {
   "cell_type": "code",
   "execution_count": 46,
   "id": "085d9fc5",
   "metadata": {},
   "outputs": [
    {
     "name": "stdout",
     "output_type": "stream",
     "text": [
      "> Sukmanyuk\n",
      "(-0.10) Russian\n",
      "(-3.34) Czech\n",
      "(-3.59) French\n"
     ]
    }
   ],
   "source": [
    "predict('Sukmanyuk')"
   ]
  },
  {
   "cell_type": "code",
   "execution_count": null,
   "id": "49785817",
   "metadata": {},
   "outputs": [],
   "source": []
  },
  {
   "cell_type": "code",
   "execution_count": null,
   "id": "0d0071c1",
   "metadata": {},
   "outputs": [],
   "source": []
  }
 ],
 "metadata": {
  "kernelspec": {
   "display_name": "Python 3 (ipykernel)",
   "language": "python",
   "name": "python3"
  },
  "language_info": {
   "codemirror_mode": {
    "name": "ipython",
    "version": 3
   },
   "file_extension": ".py",
   "mimetype": "text/x-python",
   "name": "python",
   "nbconvert_exporter": "python",
   "pygments_lexer": "ipython3",
   "version": "3.9.12"
  }
 },
 "nbformat": 4,
 "nbformat_minor": 5
}
